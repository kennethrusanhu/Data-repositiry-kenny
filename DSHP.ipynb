{
 "cells": [
  {
   "cell_type": "code",
   "execution_count": 1,
   "id": "2a863953",
   "metadata": {},
   "outputs": [
    {
     "name": "stdout",
     "output_type": "stream",
     "text": [
      "Kenneth Rusanhu\n"
     ]
    }
   ],
   "source": [
    "print(\"Kenneth Rusanhu\")"
   ]
  },
  {
   "cell_type": "code",
   "execution_count": 2,
   "id": "f87b4b1f",
   "metadata": {},
   "outputs": [
    {
     "data": {
      "text/plain": [
       "30"
      ]
     },
     "execution_count": 2,
     "metadata": {},
     "output_type": "execute_result"
    }
   ],
   "source": [
    "10+20"
   ]
  },
  {
   "cell_type": "code",
   "execution_count": 5,
   "id": "00e61dbd",
   "metadata": {},
   "outputs": [
    {
     "data": {
      "text/plain": [
       "15"
      ]
     },
     "execution_count": 5,
     "metadata": {},
     "output_type": "execute_result"
    }
   ],
   "source": [
    "30-15"
   ]
  },
  {
   "cell_type": "code",
   "execution_count": 6,
   "id": "a04dfbb9",
   "metadata": {
    "scrolled": true
   },
   "outputs": [
    {
     "data": {
      "text/plain": [
       "150"
      ]
     },
     "execution_count": 6,
     "metadata": {},
     "output_type": "execute_result"
    }
   ],
   "source": [
    "50*3"
   ]
  },
  {
   "cell_type": "code",
   "execution_count": 11,
   "id": "f32a16f3",
   "metadata": {},
   "outputs": [
    {
     "ename": "SyntaxError",
     "evalue": "invalid syntax (3514943676.py, line 1)",
     "output_type": "error",
     "traceback": [
      "\u001b[1;36m  Cell \u001b[1;32mIn[11], line 1\u001b[1;36m\u001b[0m\n\u001b[1;33m    to add the cell above the current cell ESC+A\u001b[0m\n\u001b[1;37m       ^\u001b[0m\n\u001b[1;31mSyntaxError\u001b[0m\u001b[1;31m:\u001b[0m invalid syntax\n"
     ]
    }
   ],
   "source": [
    "to add the cell above the current cell ESC+A\n",
    "to add the cell below the current cell ESC+B\n",
    "to execute or run the cell/code CTRL+ENTER\n",
    "to delete the cell ESC+D+D"
   ]
  },
  {
   "cell_type": "markdown",
   "id": "6bdaf73e",
   "metadata": {},
   "source": [
    "HELLO Kenneth batch dsg0125 data science course"
   ]
  },
  {
   "cell_type": "markdown",
   "id": "f731643e",
   "metadata": {},
   "source": [
    "my name is kenneth rusanhu"
   ]
  },
  {
   "cell_type": "code",
   "execution_count": null,
   "id": "a882cd17",
   "metadata": {},
   "outputs": [],
   "source": []
  },
  {
   "cell_type": "code",
   "execution_count": null,
   "id": "a4f9f8c1",
   "metadata": {},
   "outputs": [],
   "source": []
  }
 ],
 "metadata": {
  "kernelspec": {
   "display_name": "Python 3 (ipykernel)",
   "language": "python",
   "name": "python3"
  },
  "language_info": {
   "codemirror_mode": {
    "name": "ipython",
    "version": 3
   },
   "file_extension": ".py",
   "mimetype": "text/x-python",
   "name": "python",
   "nbconvert_exporter": "python",
   "pygments_lexer": "ipython3",
   "version": "3.11.7"
  }
 },
 "nbformat": 4,
 "nbformat_minor": 5
}
